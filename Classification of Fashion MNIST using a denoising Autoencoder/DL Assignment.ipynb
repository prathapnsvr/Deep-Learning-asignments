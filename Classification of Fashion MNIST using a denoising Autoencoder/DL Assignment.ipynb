{
  "nbformat": 4,
  "nbformat_minor": 0,
  "metadata": {
    "colab": {
      "name": "DL Assignment 3.ipynb",
      "provenance": [],
      "collapsed_sections": []
    },
    "kernelspec": {
      "name": "python3",
      "display_name": "Python 3"
    },
    "accelerator": "GPU"
  },
  "cells": [
    {
      "cell_type": "markdown",
      "metadata": {
        "id": "LgasH07bImlQ",
        "colab_type": "text"
      },
      "source": [
        "## **TASK 1**"
      ]
    },
    {
      "cell_type": "markdown",
      "metadata": {
        "id": "Yr7u_DhIo4g0",
        "colab_type": "text"
      },
      "source": [
        "## Libraries used"
      ]
    },
    {
      "cell_type": "code",
      "metadata": {
        "id": "xr4a4NiZoZCG",
        "colab_type": "code",
        "colab": {}
      },
      "source": [
        "import keras\n",
        "from keras.layers import Dense, Input, Conv2D, LSTM, MaxPool2D, UpSampling2D, Flatten, Dropout, MaxPooling2D\n",
        "from sklearn.model_selection import train_test_split\n",
        "from keras.callbacks import EarlyStopping\n",
        "from keras.utils import to_categorical\n",
        "from numpy import argmax, array_equal\n",
        "import matplotlib.pyplot as plt\n",
        "from keras.models import Model, Sequential\n",
        "from imgaug import augmenters\n",
        "from random import randint\n",
        "import pandas as pd\n",
        "import numpy as np"
      ],
      "execution_count": 0,
      "outputs": []
    },
    {
      "cell_type": "markdown",
      "metadata": {
        "id": "YlLBOv6jpKRm",
        "colab_type": "text"
      },
      "source": [
        "## Importing MNIST"
      ]
    },
    {
      "cell_type": "code",
      "metadata": {
        "id": "tDAVRA9MI-Ik",
        "colab_type": "code",
        "colab": {}
      },
      "source": [
        "from keras.datasets import mnist\n",
        "(x_train, y_train), (x_test, y_test) = mnist.load_data()"
      ],
      "execution_count": 0,
      "outputs": []
    },
    {
      "cell_type": "markdown",
      "metadata": {
        "id": "DFlIpskjvRNB",
        "colab_type": "text"
      },
      "source": [
        "Spliting trian and validation from train as 80% train data and 20% test data."
      ]
    },
    {
      "cell_type": "code",
      "metadata": {
        "id": "ZYDUPr0_JF8j",
        "colab_type": "code",
        "colab": {}
      },
      "source": [
        "train_x, val_x = train_test_split(x_train, test_size=0.2)"
      ],
      "execution_count": 0,
      "outputs": []
    },
    {
      "cell_type": "markdown",
      "metadata": {
        "id": "d3ZTt2r_vgI3",
        "colab_type": "text"
      },
      "source": [
        "Normalizing the data and reshaping the data"
      ]
    },
    {
      "cell_type": "code",
      "metadata": {
        "id": "wyKP5uZMTOmG",
        "colab_type": "code",
        "colab": {}
      },
      "source": [
        "train_x=train_x/255\n",
        "val_x=val_x/255\n",
        "train_x = train_x.reshape(-1, 28, 28, 1)\n",
        "val_x = val_x.reshape(-1, 28, 28, 1)"
      ],
      "execution_count": 0,
      "outputs": []
    },
    {
      "cell_type": "markdown",
      "metadata": {
        "id": "K0ekvHtivrz1",
        "colab_type": "text"
      },
      "source": [
        "* Adding Noise to the images.\n",
        "* Noise used : Salt and Pepper noise\n",
        "* Noise percentage: 20%"
      ]
    },
    {
      "cell_type": "code",
      "metadata": {
        "id": "QSgU8PJ1pfhq",
        "colab_type": "code",
        "colab": {}
      },
      "source": [
        "noise = augmenters.SaltAndPepper(0.2)\n",
        "seq_object = augmenters.Sequential([noise])\n",
        "\n",
        "train_x_n = seq_object.augment_images(train_x * 255) / 255\n",
        "val_x_n = seq_object.augment_images(val_x * 255) / 255"
      ],
      "execution_count": 0,
      "outputs": []
    },
    {
      "cell_type": "markdown",
      "metadata": {
        "id": "R1rPyx0lwAjT",
        "colab_type": "text"
      },
      "source": [
        "Images without noice."
      ]
    },
    {
      "cell_type": "code",
      "metadata": {
        "id": "0KPzdsTlpvNj",
        "colab_type": "code",
        "outputId": "5aad780b-0237-4d2b-cca6-12759744f4e7",
        "colab": {
          "base_uri": "https://localhost:8080/",
          "height": 146
        }
      },
      "source": [
        "f, ax = plt.subplots(1,5)\n",
        "f.set_size_inches(10, 5)\n",
        "for i in range(5,10):\n",
        "    ax[i-5].imshow(train_x[i].reshape(28, 28))\n",
        "plt.show()"
      ],
      "execution_count": 15,
      "outputs": [
        {
          "output_type": "display_data",
          "data": {
            "image/png": "[encoded data removed]",
            "text/plain": [
              "<Figure size 720x360 with 5 Axes>"
            ]
          },
          "metadata": {
            "tags": [],
            "needs_background": "light"
          }
        }
      ]
    },
    {
      "cell_type": "markdown",
      "metadata": {
        "id": "ra_a38rawIgu",
        "colab_type": "text"
      },
      "source": [
        "Images with added noice"
      ]
    },
    {
      "cell_type": "code",
      "metadata": {
        "id": "7ZVy5BK8qA8x",
        "colab_type": "code",
        "outputId": "9a01932d-25fe-40eb-f8c8-0126c60a003d",
        "colab": {
          "base_uri": "https://localhost:8080/",
          "height": 146
        }
      },
      "source": [
        "f, ax = plt.subplots(1,5)\n",
        "f.set_size_inches(10,5)\n",
        "for i in range(5,10):\n",
        "    ax[i-5].imshow(train_x_n[i].reshape(28, 28))\n",
        "plt.show()"
      ],
      "execution_count": 16,
      "outputs": [
        {
          "output_type": "display_data",
          "data": {
            "image/png": "[encoded data removed]",
            "text/plain": [
              "<Figure size 720x360 with 5 Axes>"
            ]
          },
          "metadata": {
            "tags": [],
            "needs_background": "light"
          }
        }
      ]
    },
    {
      "cell_type": "markdown",
      "metadata": {
        "id": "jwkHNbwNwP_N",
        "colab_type": "text"
      },
      "source": [
        "### Denoising Autoencoder for MNIST dataset "
      ]
    },
    {
      "cell_type": "code",
      "metadata": {
        "id": "7fCOEiztqTGJ",
        "colab_type": "code",
        "colab": {}
      },
      "source": [
        "# input layer\n",
        "input_layer = Input(shape=(28, 28, 1))\n",
        "\n",
        "# encoding architecture\n",
        "encoded_layer1 = Conv2D(64, (3, 3), activation='relu', padding='same')(input_layer)\n",
        "encoded_layer1 = MaxPool2D( (2, 2), padding='same')(encoded_layer1)\n",
        "encoded_layer2 = Conv2D(32, (3, 3), activation='relu', padding='same')(encoded_layer1)\n",
        "encoded_layer2 = MaxPool2D( (2, 2), padding='same')(encoded_layer2)\n",
        "encoded_layer3 = Conv2D(16, (3, 3), activation='relu', padding='same')(encoded_layer2)\n",
        "latent_view    = MaxPool2D( (2, 2), padding='same')(encoded_layer3)\n",
        "\n",
        "# decoding architecture\n",
        "decoded_layer1 = Conv2D(16, (3, 3), activation='relu', padding='same')(latent_view)\n",
        "decoded_layer1 = UpSampling2D((2, 2))(decoded_layer1)\n",
        "decoded_layer2 = Conv2D(32, (3, 3), activation='relu', padding='same')(decoded_layer1)\n",
        "decoded_layer2 = UpSampling2D((2, 2))(decoded_layer2)\n",
        "decoded_layer3 = Conv2D(64, (3, 3), activation='relu')(decoded_layer2)\n",
        "decoded_layer3 = UpSampling2D((2, 2))(decoded_layer3)\n",
        "output_layer   = Conv2D(1, (3, 3), padding='same')(decoded_layer3)\n",
        "\n",
        "# compile the model\n",
        "model_2 = Model(input_layer, output_layer)\n",
        "model_2.compile(optimizer='adam', loss='mse')"
      ],
      "execution_count": 0,
      "outputs": []
    },
    {
      "cell_type": "code",
      "metadata": {
        "id": "EQGug9Ib9ncP",
        "colab_type": "code",
        "outputId": "c33d8cd8-d88d-428d-e7f0-194a62b763ff",
        "colab": {
          "base_uri": "https://localhost:8080/",
          "height": 629
        }
      },
      "source": [
        "model_2.summary()"
      ],
      "execution_count": 18,
      "outputs": [
        {
          "output_type": "stream",
          "text": [
            "Model: \"model_1\"\n",
            "_________________________________________________________________\n",
            "Layer (type)                 Output Shape              Param #   \n",
            "=================================================================\n",
            "input_2 (InputLayer)         (None, 28, 28, 1)         0         \n",
            "_________________________________________________________________\n",
            "conv2d_2 (Conv2D)            (None, 28, 28, 64)        640       \n",
            "_________________________________________________________________\n",
            "max_pooling2d_1 (MaxPooling2 (None, 14, 14, 64)        0         \n",
            "_________________________________________________________________\n",
            "conv2d_3 (Conv2D)            (None, 14, 14, 32)        18464     \n",
            "_________________________________________________________________\n",
            "max_pooling2d_2 (MaxPooling2 (None, 7, 7, 32)          0         \n",
            "_________________________________________________________________\n",
            "conv2d_4 (Conv2D)            (None, 7, 7, 16)          4624      \n",
            "_________________________________________________________________\n",
            "max_pooling2d_3 (MaxPooling2 (None, 4, 4, 16)          0         \n",
            "_________________________________________________________________\n",
            "conv2d_5 (Conv2D)            (None, 4, 4, 16)          2320      \n",
            "_________________________________________________________________\n",
            "up_sampling2d_1 (UpSampling2 (None, 8, 8, 16)          0         \n",
            "_________________________________________________________________\n",
            "conv2d_6 (Conv2D)            (None, 8, 8, 32)          4640      \n",
            "_________________________________________________________________\n",
            "up_sampling2d_2 (UpSampling2 (None, 16, 16, 32)        0         \n",
            "_________________________________________________________________\n",
            "conv2d_7 (Conv2D)            (None, 14, 14, 64)        18496     \n",
            "_________________________________________________________________\n",
            "up_sampling2d_3 (UpSampling2 (None, 28, 28, 64)        0         \n",
            "_________________________________________________________________\n",
            "conv2d_8 (Conv2D)            (None, 28, 28, 1)         577       \n",
            "=================================================================\n",
            "Total params: 49,761\n",
            "Trainable params: 49,761\n",
            "Non-trainable params: 0\n",
            "_________________________________________________________________\n"
          ],
          "name": "stdout"
        }
      ]
    },
    {
      "cell_type": "code",
      "metadata": {
        "id": "CCclbuAYqxY-",
        "colab_type": "code",
        "outputId": "32285d52-2d63-4833-8ef6-0c91876b65a0",
        "colab": {
          "base_uri": "https://localhost:8080/",
          "height": 1000
        }
      },
      "source": [
        "early_stopping = EarlyStopping(monitor='val_loss', min_delta=0, patience=10, verbose=5, mode='auto')\n",
        "history = model_2.fit(train_x_n, train_x, epochs=200, batch_size=2048, validation_data=(val_x_n, val_x), callbacks=[early_stopping])"
      ],
      "execution_count": 19,
      "outputs": [
        {
          "output_type": "stream",
          "text": [
            "Train on 48000 samples, validate on 12000 samples\n",
            "Epoch 1/200\n",
            "48000/48000 [==============================] - 13s 269us/step - loss: 0.0765 - val_loss: 0.0623\n",
            "Epoch 2/200\n",
            "48000/48000 [==============================] - 3s 64us/step - loss: 0.0558 - val_loss: 0.0496\n",
            "Epoch 3/200\n",
            "48000/48000 [==============================] - 3s 64us/step - loss: 0.0462 - val_loss: 0.0434\n",
            "Epoch 4/200\n",
            "48000/48000 [==============================] - 3s 64us/step - loss: 0.0405 - val_loss: 0.0378\n",
            "Epoch 5/200\n",
            "48000/48000 [==============================] - 3s 64us/step - loss: 0.0384 - val_loss: 0.0353\n",
            "Epoch 6/200\n",
            "48000/48000 [==============================] - 3s 64us/step - loss: 0.0343 - val_loss: 0.0325\n",
            "Epoch 7/200\n",
            "48000/48000 [==============================] - 3s 64us/step - loss: 0.0314 - val_loss: 0.0300\n",
            "Epoch 8/200\n",
            "48000/48000 [==============================] - 3s 64us/step - loss: 0.0290 - val_loss: 0.0280\n",
            "Epoch 9/200\n",
            "48000/48000 [==============================] - 3s 64us/step - loss: 0.0270 - val_loss: 0.0259\n",
            "Epoch 10/200\n",
            "48000/48000 [==============================] - 3s 64us/step - loss: 0.0255 - val_loss: 0.0248\n",
            "Epoch 11/200\n",
            "48000/48000 [==============================] - 3s 65us/step - loss: 0.0241 - val_loss: 0.0234\n",
            "Epoch 12/200\n",
            "48000/48000 [==============================] - 3s 65us/step - loss: 0.0230 - val_loss: 0.0225\n",
            "Epoch 13/200\n",
            "48000/48000 [==============================] - 3s 64us/step - loss: 0.0221 - val_loss: 0.0217\n",
            "Epoch 14/200\n",
            "48000/48000 [==============================] - 3s 65us/step - loss: 0.0217 - val_loss: 0.0211\n",
            "Epoch 15/200\n",
            "48000/48000 [==============================] - 3s 65us/step - loss: 0.0207 - val_loss: 0.0203\n",
            "Epoch 16/200\n",
            "48000/48000 [==============================] - 3s 65us/step - loss: 0.0201 - val_loss: 0.0197\n",
            "Epoch 17/200\n",
            "48000/48000 [==============================] - 3s 65us/step - loss: 0.0196 - val_loss: 0.0193\n",
            "Epoch 18/200\n",
            "48000/48000 [==============================] - 3s 66us/step - loss: 0.0193 - val_loss: 0.0189\n",
            "Epoch 19/200\n",
            "48000/48000 [==============================] - 3s 66us/step - loss: 0.0186 - val_loss: 0.0183\n",
            "Epoch 20/200\n",
            "48000/48000 [==============================] - 3s 66us/step - loss: 0.0183 - val_loss: 0.0180\n",
            "Epoch 21/200\n",
            "48000/48000 [==============================] - 3s 66us/step - loss: 0.0179 - val_loss: 0.0176\n",
            "Epoch 22/200\n",
            "48000/48000 [==============================] - 3s 67us/step - loss: 0.0176 - val_loss: 0.0173\n",
            "Epoch 23/200\n",
            "48000/48000 [==============================] - 3s 67us/step - loss: 0.0173 - val_loss: 0.0171\n",
            "Epoch 24/200\n",
            "48000/48000 [==============================] - 3s 66us/step - loss: 0.0170 - val_loss: 0.0167\n",
            "Epoch 25/200\n",
            "48000/48000 [==============================] - 3s 66us/step - loss: 0.0167 - val_loss: 0.0164\n",
            "Epoch 26/200\n",
            "48000/48000 [==============================] - 3s 66us/step - loss: 0.0164 - val_loss: 0.0162\n",
            "Epoch 27/200\n",
            "48000/48000 [==============================] - 3s 66us/step - loss: 0.0163 - val_loss: 0.0168\n",
            "Epoch 28/200\n",
            "48000/48000 [==============================] - 3s 66us/step - loss: 0.0162 - val_loss: 0.0161\n",
            "Epoch 29/200\n",
            "48000/48000 [==============================] - 3s 66us/step - loss: 0.0157 - val_loss: 0.0156\n",
            "Epoch 30/200\n",
            "48000/48000 [==============================] - 3s 66us/step - loss: 0.0155 - val_loss: 0.0154\n",
            "Epoch 31/200\n",
            "48000/48000 [==============================] - 3s 66us/step - loss: 0.0154 - val_loss: 0.0153\n",
            "Epoch 32/200\n",
            "48000/48000 [==============================] - 3s 66us/step - loss: 0.0153 - val_loss: 0.0151\n",
            "Epoch 33/200\n",
            "48000/48000 [==============================] - 3s 66us/step - loss: 0.0150 - val_loss: 0.0150\n",
            "Epoch 34/200\n",
            "48000/48000 [==============================] - 3s 66us/step - loss: 0.0149 - val_loss: 0.0149\n",
            "Epoch 35/200\n",
            "48000/48000 [==============================] - 3s 66us/step - loss: 0.0148 - val_loss: 0.0146\n",
            "Epoch 36/200\n",
            "48000/48000 [==============================] - 3s 66us/step - loss: 0.0145 - val_loss: 0.0145\n",
            "Epoch 37/200\n",
            "48000/48000 [==============================] - 3s 66us/step - loss: 0.0146 - val_loss: 0.0143\n",
            "Epoch 38/200\n",
            "48000/48000 [==============================] - 3s 66us/step - loss: 0.0145 - val_loss: 0.0142\n",
            "Epoch 39/200\n",
            "48000/48000 [==============================] - 3s 66us/step - loss: 0.0142 - val_loss: 0.0142\n",
            "Epoch 40/200\n",
            "48000/48000 [==============================] - 3s 66us/step - loss: 0.0141 - val_loss: 0.0140\n",
            "Epoch 41/200\n",
            "48000/48000 [==============================] - 3s 65us/step - loss: 0.0140 - val_loss: 0.0144\n",
            "Epoch 42/200\n",
            "48000/48000 [==============================] - 3s 65us/step - loss: 0.0140 - val_loss: 0.0139\n",
            "Epoch 43/200\n",
            "48000/48000 [==============================] - 3s 65us/step - loss: 0.0138 - val_loss: 0.0137\n",
            "Epoch 44/200\n",
            "48000/48000 [==============================] - 3s 65us/step - loss: 0.0137 - val_loss: 0.0136\n",
            "Epoch 45/200\n",
            "48000/48000 [==============================] - 3s 65us/step - loss: 0.0135 - val_loss: 0.0135\n",
            "Epoch 46/200\n",
            "48000/48000 [==============================] - 3s 66us/step - loss: 0.0138 - val_loss: 0.0136\n",
            "Epoch 47/200\n",
            "48000/48000 [==============================] - 3s 66us/step - loss: 0.0134 - val_loss: 0.0133\n",
            "Epoch 48/200\n",
            "48000/48000 [==============================] - 3s 65us/step - loss: 0.0133 - val_loss: 0.0133\n",
            "Epoch 49/200\n",
            "48000/48000 [==============================] - 3s 65us/step - loss: 0.0133 - val_loss: 0.0135\n",
            "Epoch 50/200\n",
            "48000/48000 [==============================] - 3s 65us/step - loss: 0.0132 - val_loss: 0.0131\n",
            "Epoch 51/200\n",
            "48000/48000 [==============================] - 3s 66us/step - loss: 0.0130 - val_loss: 0.0131\n",
            "Epoch 52/200\n",
            "48000/48000 [==============================] - 3s 66us/step - loss: 0.0130 - val_loss: 0.0131\n",
            "Epoch 53/200\n",
            "48000/48000 [==============================] - 3s 65us/step - loss: 0.0129 - val_loss: 0.0128\n",
            "Epoch 54/200\n",
            "48000/48000 [==============================] - 3s 66us/step - loss: 0.0129 - val_loss: 0.0128\n",
            "Epoch 55/200\n",
            "48000/48000 [==============================] - 3s 66us/step - loss: 0.0129 - val_loss: 0.0131\n",
            "Epoch 56/200\n",
            "48000/48000 [==============================] - 3s 66us/step - loss: 0.0127 - val_loss: 0.0126\n",
            "Epoch 57/200\n",
            "48000/48000 [==============================] - 3s 66us/step - loss: 0.0126 - val_loss: 0.0127\n",
            "Epoch 58/200\n",
            "48000/48000 [==============================] - 3s 66us/step - loss: 0.0127 - val_loss: 0.0125\n",
            "Epoch 59/200\n",
            "48000/48000 [==============================] - 3s 66us/step - loss: 0.0125 - val_loss: 0.0125\n",
            "Epoch 60/200\n",
            "48000/48000 [==============================] - 3s 66us/step - loss: 0.0125 - val_loss: 0.0125\n",
            "Epoch 61/200\n",
            "48000/48000 [==============================] - 3s 66us/step - loss: 0.0124 - val_loss: 0.0123\n",
            "Epoch 62/200\n",
            "48000/48000 [==============================] - 3s 66us/step - loss: 0.0123 - val_loss: 0.0122\n",
            "Epoch 63/200\n",
            "48000/48000 [==============================] - 3s 65us/step - loss: 0.0122 - val_loss: 0.0124\n",
            "Epoch 64/200\n",
            "48000/48000 [==============================] - 3s 66us/step - loss: 0.0123 - val_loss: 0.0123\n",
            "Epoch 65/200\n",
            "48000/48000 [==============================] - 3s 66us/step - loss: 0.0122 - val_loss: 0.0122\n",
            "Epoch 66/200\n",
            "48000/48000 [==============================] - 3s 66us/step - loss: 0.0120 - val_loss: 0.0122\n",
            "Epoch 67/200\n",
            "48000/48000 [==============================] - 3s 65us/step - loss: 0.0121 - val_loss: 0.0119\n",
            "Epoch 68/200\n",
            "48000/48000 [==============================] - 3s 65us/step - loss: 0.0120 - val_loss: 0.0119\n",
            "Epoch 69/200\n",
            "48000/48000 [==============================] - 3s 66us/step - loss: 0.0120 - val_loss: 0.0120\n",
            "Epoch 70/200\n",
            "48000/48000 [==============================] - 3s 65us/step - loss: 0.0119 - val_loss: 0.0119\n",
            "Epoch 71/200\n",
            "48000/48000 [==============================] - 3s 65us/step - loss: 0.0118 - val_loss: 0.0118\n",
            "Epoch 72/200\n",
            "48000/48000 [==============================] - 3s 66us/step - loss: 0.0117 - val_loss: 0.0118\n",
            "Epoch 73/200\n",
            "48000/48000 [==============================] - 3s 65us/step - loss: 0.0119 - val_loss: 0.0117\n",
            "Epoch 74/200\n",
            "48000/48000 [==============================] - 3s 65us/step - loss: 0.0117 - val_loss: 0.0116\n",
            "Epoch 75/200\n",
            "48000/48000 [==============================] - 3s 66us/step - loss: 0.0117 - val_loss: 0.0116\n",
            "Epoch 76/200\n",
            "48000/48000 [==============================] - 3s 65us/step - loss: 0.0116 - val_loss: 0.0116\n",
            "Epoch 77/200\n",
            "48000/48000 [==============================] - 3s 65us/step - loss: 0.0115 - val_loss: 0.0115\n",
            "Epoch 78/200\n",
            "48000/48000 [==============================] - 3s 65us/step - loss: 0.0116 - val_loss: 0.0116\n",
            "Epoch 79/200\n",
            "48000/48000 [==============================] - 3s 65us/step - loss: 0.0115 - val_loss: 0.0114\n",
            "Epoch 80/200\n",
            "48000/48000 [==============================] - 3s 65us/step - loss: 0.0114 - val_loss: 0.0114\n",
            "Epoch 81/200\n",
            "48000/48000 [==============================] - 3s 65us/step - loss: 0.0114 - val_loss: 0.0113\n",
            "Epoch 82/200\n",
            "48000/48000 [==============================] - 3s 66us/step - loss: 0.0113 - val_loss: 0.0114\n",
            "Epoch 83/200\n",
            "48000/48000 [==============================] - 3s 65us/step - loss: 0.0113 - val_loss: 0.0114\n",
            "Epoch 84/200\n",
            "48000/48000 [==============================] - 3s 65us/step - loss: 0.0113 - val_loss: 0.0113\n",
            "Epoch 85/200\n",
            "48000/48000 [==============================] - 3s 65us/step - loss: 0.0113 - val_loss: 0.0112\n",
            "Epoch 86/200\n",
            "48000/48000 [==============================] - 3s 66us/step - loss: 0.0113 - val_loss: 0.0111\n",
            "Epoch 87/200\n",
            "48000/48000 [==============================] - 3s 65us/step - loss: 0.0112 - val_loss: 0.0112\n",
            "Epoch 88/200\n",
            "48000/48000 [==============================] - 3s 66us/step - loss: 0.0111 - val_loss: 0.0113\n",
            "Epoch 89/200\n",
            "48000/48000 [==============================] - 3s 65us/step - loss: 0.0111 - val_loss: 0.0111\n",
            "Epoch 90/200\n",
            "48000/48000 [==============================] - 3s 65us/step - loss: 0.0111 - val_loss: 0.0111\n",
            "Epoch 91/200\n",
            "48000/48000 [==============================] - 3s 66us/step - loss: 0.0110 - val_loss: 0.0110\n",
            "Epoch 92/200\n",
            "48000/48000 [==============================] - 3s 66us/step - loss: 0.0110 - val_loss: 0.0109\n",
            "Epoch 93/200\n",
            "48000/48000 [==============================] - 3s 66us/step - loss: 0.0109 - val_loss: 0.0110\n",
            "Epoch 94/200\n",
            "48000/48000 [==============================] - 3s 66us/step - loss: 0.0109 - val_loss: 0.0109\n",
            "Epoch 95/200\n",
            "48000/48000 [==============================] - 3s 66us/step - loss: 0.0109 - val_loss: 0.0108\n",
            "Epoch 96/200\n",
            "48000/48000 [==============================] - 3s 66us/step - loss: 0.0109 - val_loss: 0.0109\n",
            "Epoch 97/200\n",
            "48000/48000 [==============================] - 3s 66us/step - loss: 0.0109 - val_loss: 0.0110\n",
            "Epoch 98/200\n",
            "48000/48000 [==============================] - 3s 66us/step - loss: 0.0108 - val_loss: 0.0107\n",
            "Epoch 99/200\n",
            "48000/48000 [==============================] - 3s 66us/step - loss: 0.0108 - val_loss: 0.0109\n",
            "Epoch 100/200\n",
            "48000/48000 [==============================] - 3s 66us/step - loss: 0.0107 - val_loss: 0.0108\n",
            "Epoch 101/200\n",
            "48000/48000 [==============================] - 3s 66us/step - loss: 0.0108 - val_loss: 0.0109\n",
            "Epoch 102/200\n",
            "48000/48000 [==============================] - 3s 66us/step - loss: 0.0106 - val_loss: 0.0107\n",
            "Epoch 103/200\n",
            "48000/48000 [==============================] - 3s 65us/step - loss: 0.0106 - val_loss: 0.0108\n",
            "Epoch 104/200\n",
            "48000/48000 [==============================] - 3s 66us/step - loss: 0.0107 - val_loss: 0.0106\n",
            "Epoch 105/200\n",
            "48000/48000 [==============================] - 3s 65us/step - loss: 0.0106 - val_loss: 0.0110\n",
            "Epoch 106/200\n",
            "48000/48000 [==============================] - 3s 66us/step - loss: 0.0106 - val_loss: 0.0105\n",
            "Epoch 107/200\n",
            "48000/48000 [==============================] - 3s 65us/step - loss: 0.0105 - val_loss: 0.0105\n",
            "Epoch 108/200\n",
            "48000/48000 [==============================] - 3s 65us/step - loss: 0.0107 - val_loss: 0.0106\n",
            "Epoch 109/200\n",
            "48000/48000 [==============================] - 3s 65us/step - loss: 0.0105 - val_loss: 0.0105\n",
            "Epoch 110/200\n",
            "48000/48000 [==============================] - 3s 65us/step - loss: 0.0104 - val_loss: 0.0104\n",
            "Epoch 111/200\n",
            "48000/48000 [==============================] - 3s 65us/step - loss: 0.0104 - val_loss: 0.0104\n",
            "Epoch 112/200\n",
            "48000/48000 [==============================] - 3s 65us/step - loss: 0.0104 - val_loss: 0.0104\n",
            "Epoch 113/200\n",
            "48000/48000 [==============================] - 3s 66us/step - loss: 0.0105 - val_loss: 0.0104\n",
            "Epoch 114/200\n",
            "48000/48000 [==============================] - 3s 66us/step - loss: 0.0104 - val_loss: 0.0111\n",
            "Epoch 115/200\n",
            "48000/48000 [==============================] - 3s 65us/step - loss: 0.0104 - val_loss: 0.0103\n",
            "Epoch 116/200\n",
            "48000/48000 [==============================] - 3s 65us/step - loss: 0.0103 - val_loss: 0.0103\n",
            "Epoch 117/200\n",
            "48000/48000 [==============================] - 3s 65us/step - loss: 0.0104 - val_loss: 0.0105\n",
            "Epoch 118/200\n",
            "48000/48000 [==============================] - 3s 65us/step - loss: 0.0103 - val_loss: 0.0104\n",
            "Epoch 119/200\n",
            "48000/48000 [==============================] - 3s 65us/step - loss: 0.0102 - val_loss: 0.0102\n",
            "Epoch 120/200\n",
            "48000/48000 [==============================] - 3s 65us/step - loss: 0.0103 - val_loss: 0.0105\n",
            "Epoch 121/200\n",
            "48000/48000 [==============================] - 3s 65us/step - loss: 0.0102 - val_loss: 0.0102\n",
            "Epoch 122/200\n",
            "48000/48000 [==============================] - 3s 66us/step - loss: 0.0101 - val_loss: 0.0103\n",
            "Epoch 123/200\n",
            "48000/48000 [==============================] - 3s 65us/step - loss: 0.0102 - val_loss: 0.0102\n",
            "Epoch 124/200\n",
            "48000/48000 [==============================] - 3s 65us/step - loss: 0.0101 - val_loss: 0.0102\n",
            "Epoch 125/200\n",
            "48000/48000 [==============================] - 3s 66us/step - loss: 0.0102 - val_loss: 0.0103\n",
            "Epoch 126/200\n",
            "48000/48000 [==============================] - 3s 65us/step - loss: 0.0101 - val_loss: 0.0100\n",
            "Epoch 127/200\n",
            "48000/48000 [==============================] - 3s 66us/step - loss: 0.0101 - val_loss: 0.0101\n",
            "Epoch 128/200\n",
            "48000/48000 [==============================] - 3s 65us/step - loss: 0.0100 - val_loss: 0.0103\n",
            "Epoch 129/200\n",
            "48000/48000 [==============================] - 3s 65us/step - loss: 0.0100 - val_loss: 0.0100\n",
            "Epoch 130/200\n",
            "48000/48000 [==============================] - 3s 65us/step - loss: 0.0101 - val_loss: 0.0100\n",
            "Epoch 131/200\n",
            "48000/48000 [==============================] - 3s 66us/step - loss: 0.0100 - val_loss: 0.0101\n",
            "Epoch 132/200\n",
            "48000/48000 [==============================] - 3s 66us/step - loss: 0.0099 - val_loss: 0.0099\n",
            "Epoch 133/200\n",
            "48000/48000 [==============================] - 3s 66us/step - loss: 0.0101 - val_loss: 0.0100\n",
            "Epoch 134/200\n",
            "48000/48000 [==============================] - 3s 65us/step - loss: 0.0100 - val_loss: 0.0099\n",
            "Epoch 135/200\n",
            "48000/48000 [==============================] - 3s 66us/step - loss: 0.0098 - val_loss: 0.0099\n",
            "Epoch 136/200\n",
            "48000/48000 [==============================] - 3s 66us/step - loss: 0.0099 - val_loss: 0.0104\n",
            "Epoch 137/200\n",
            "48000/48000 [==============================] - 3s 66us/step - loss: 0.0100 - val_loss: 0.0098\n",
            "Epoch 138/200\n",
            "48000/48000 [==============================] - 3s 66us/step - loss: 0.0098 - val_loss: 0.0100\n",
            "Epoch 139/200\n",
            "48000/48000 [==============================] - 3s 65us/step - loss: 0.0099 - val_loss: 0.0098\n",
            "Epoch 140/200\n",
            "48000/48000 [==============================] - 3s 65us/step - loss: 0.0098 - val_loss: 0.0098\n",
            "Epoch 141/200\n",
            "48000/48000 [==============================] - 3s 66us/step - loss: 0.0098 - val_loss: 0.0098\n",
            "Epoch 142/200\n",
            "48000/48000 [==============================] - 3s 66us/step - loss: 0.0098 - val_loss: 0.0098\n",
            "Epoch 143/200\n",
            "48000/48000 [==============================] - 3s 65us/step - loss: 0.0098 - val_loss: 0.0100\n",
            "Epoch 144/200\n",
            "48000/48000 [==============================] - 3s 65us/step - loss: 0.0098 - val_loss: 0.0098\n",
            "Epoch 145/200\n",
            "48000/48000 [==============================] - 3s 65us/step - loss: 0.0097 - val_loss: 0.0098\n",
            "Epoch 146/200\n",
            "48000/48000 [==============================] - 3s 66us/step - loss: 0.0098 - val_loss: 0.0098\n",
            "Epoch 147/200\n",
            "48000/48000 [==============================] - 3s 66us/step - loss: 0.0097 - val_loss: 0.0099\n",
            "Epoch 148/200\n",
            "48000/48000 [==============================] - 3s 65us/step - loss: 0.0098 - val_loss: 0.0096\n",
            "Epoch 149/200\n",
            "48000/48000 [==============================] - 3s 66us/step - loss: 0.0096 - val_loss: 0.0097\n",
            "Epoch 150/200\n",
            "48000/48000 [==============================] - 3s 66us/step - loss: 0.0096 - val_loss: 0.0096\n",
            "Epoch 151/200\n",
            "48000/48000 [==============================] - 3s 66us/step - loss: 0.0096 - val_loss: 0.0097\n",
            "Epoch 152/200\n",
            "48000/48000 [==============================] - 3s 66us/step - loss: 0.0097 - val_loss: 0.0096\n",
            "Epoch 153/200\n",
            "48000/48000 [==============================] - 3s 66us/step - loss: 0.0096 - val_loss: 0.0097\n",
            "Epoch 154/200\n",
            "48000/48000 [==============================] - 3s 66us/step - loss: 0.0097 - val_loss: 0.0096\n",
            "Epoch 155/200\n",
            "48000/48000 [==============================] - 3s 66us/step - loss: 0.0096 - val_loss: 0.0095\n",
            "Epoch 156/200\n",
            "48000/48000 [==============================] - 3s 66us/step - loss: 0.0095 - val_loss: 0.0096\n",
            "Epoch 157/200\n",
            "48000/48000 [==============================] - 3s 65us/step - loss: 0.0095 - val_loss: 0.0095\n",
            "Epoch 158/200\n",
            "48000/48000 [==============================] - 3s 66us/step - loss: 0.0096 - val_loss: 0.0096\n",
            "Epoch 159/200\n",
            "48000/48000 [==============================] - 3s 66us/step - loss: 0.0095 - val_loss: 0.0095\n",
            "Epoch 160/200\n",
            "48000/48000 [==============================] - 3s 66us/step - loss: 0.0094 - val_loss: 0.0095\n",
            "Epoch 161/200\n",
            "48000/48000 [==============================] - 3s 66us/step - loss: 0.0097 - val_loss: 0.0096\n",
            "Epoch 162/200\n",
            "48000/48000 [==============================] - 3s 66us/step - loss: 0.0095 - val_loss: 0.0095\n",
            "Epoch 163/200\n",
            "48000/48000 [==============================] - 3s 65us/step - loss: 0.0094 - val_loss: 0.0094\n",
            "Epoch 164/200\n",
            "48000/48000 [==============================] - 3s 66us/step - loss: 0.0094 - val_loss: 0.0095\n",
            "Epoch 165/200\n",
            "48000/48000 [==============================] - 3s 66us/step - loss: 0.0095 - val_loss: 0.0095\n",
            "Epoch 166/200\n",
            "48000/48000 [==============================] - 3s 65us/step - loss: 0.0094 - val_loss: 0.0094\n",
            "Epoch 167/200\n",
            "48000/48000 [==============================] - 3s 65us/step - loss: 0.0094 - val_loss: 0.0094\n",
            "Epoch 168/200\n",
            "48000/48000 [==============================] - 3s 66us/step - loss: 0.0094 - val_loss: 0.0097\n",
            "Epoch 169/200\n",
            "48000/48000 [==============================] - 3s 65us/step - loss: 0.0094 - val_loss: 0.0095\n",
            "Epoch 170/200\n",
            "48000/48000 [==============================] - 3s 66us/step - loss: 0.0094 - val_loss: 0.0093\n",
            "Epoch 171/200\n",
            "48000/48000 [==============================] - 3s 65us/step - loss: 0.0093 - val_loss: 0.0093\n",
            "Epoch 172/200\n",
            "48000/48000 [==============================] - 3s 66us/step - loss: 0.0095 - val_loss: 0.0094\n",
            "Epoch 173/200\n",
            "48000/48000 [==============================] - 3s 65us/step - loss: 0.0093 - val_loss: 0.0094\n",
            "Epoch 174/200\n",
            "48000/48000 [==============================] - 3s 65us/step - loss: 0.0093 - val_loss: 0.0094\n",
            "Epoch 175/200\n",
            "48000/48000 [==============================] - 3s 65us/step - loss: 0.0093 - val_loss: 0.0093\n",
            "Epoch 176/200\n",
            "48000/48000 [==============================] - 3s 65us/step - loss: 0.0093 - val_loss: 0.0093\n",
            "Epoch 177/200\n",
            "48000/48000 [==============================] - 3s 65us/step - loss: 0.0093 - val_loss: 0.0092\n",
            "Epoch 178/200\n",
            "48000/48000 [==============================] - 3s 66us/step - loss: 0.0092 - val_loss: 0.0093\n",
            "Epoch 179/200\n",
            "48000/48000 [==============================] - 3s 65us/step - loss: 0.0095 - val_loss: 0.0092\n",
            "Epoch 180/200\n",
            "48000/48000 [==============================] - 3s 65us/step - loss: 0.0092 - val_loss: 0.0092\n",
            "Epoch 181/200\n",
            "48000/48000 [==============================] - 3s 65us/step - loss: 0.0091 - val_loss: 0.0092\n",
            "Epoch 182/200\n",
            "48000/48000 [==============================] - 3s 65us/step - loss: 0.0092 - val_loss: 0.0093\n",
            "Epoch 183/200\n",
            "48000/48000 [==============================] - 3s 65us/step - loss: 0.0092 - val_loss: 0.0092\n",
            "Epoch 184/200\n",
            "48000/48000 [==============================] - 3s 65us/step - loss: 0.0092 - val_loss: 0.0093\n",
            "Epoch 185/200\n",
            "48000/48000 [==============================] - 3s 65us/step - loss: 0.0092 - val_loss: 0.0093\n",
            "Epoch 186/200\n",
            "48000/48000 [==============================] - 3s 65us/step - loss: 0.0092 - val_loss: 0.0092\n",
            "Epoch 187/200\n",
            "48000/48000 [==============================] - 3s 65us/step - loss: 0.0091 - val_loss: 0.0092\n",
            "Epoch 188/200\n",
            "48000/48000 [==============================] - 3s 65us/step - loss: 0.0091 - val_loss: 0.0092\n",
            "Epoch 189/200\n",
            "48000/48000 [==============================] - 3s 65us/step - loss: 0.0092 - val_loss: 0.0092\n",
            "Epoch 190/200\n",
            "48000/48000 [==============================] - 3s 66us/step - loss: 0.0091 - val_loss: 0.0093\n",
            "Epoch 191/200\n",
            "48000/48000 [==============================] - 3s 65us/step - loss: 0.0091 - val_loss: 0.0092\n",
            "Epoch 192/200\n",
            "48000/48000 [==============================] - 3s 65us/step - loss: 0.0091 - val_loss: 0.0092\n",
            "Epoch 193/200\n",
            "48000/48000 [==============================] - 3s 65us/step - loss: 0.0090 - val_loss: 0.0091\n",
            "Epoch 194/200\n",
            "48000/48000 [==============================] - 3s 65us/step - loss: 0.0092 - val_loss: 0.0092\n",
            "Epoch 195/200\n",
            "48000/48000 [==============================] - 3s 65us/step - loss: 0.0090 - val_loss: 0.0091\n",
            "Epoch 196/200\n",
            "48000/48000 [==============================] - 3s 65us/step - loss: 0.0090 - val_loss: 0.0092\n",
            "Epoch 197/200\n",
            "48000/48000 [==============================] - 3s 66us/step - loss: 0.0092 - val_loss: 0.0091\n",
            "Epoch 198/200\n",
            "48000/48000 [==============================] - 3s 65us/step - loss: 0.0090 - val_loss: 0.0091\n",
            "Epoch 199/200\n",
            "48000/48000 [==============================] - 3s 66us/step - loss: 0.0091 - val_loss: 0.0090\n",
            "Epoch 200/200\n",
            "48000/48000 [==============================] - 3s 65us/step - loss: 0.0090 - val_loss: 0.0090\n"
          ],
          "name": "stdout"
        }
      ]
    },
    {
      "cell_type": "code",
      "metadata": {
        "id": "N-QdPVFksfjf",
        "colab_type": "code",
        "colab": {
          "base_uri": "https://localhost:8080/",
          "height": 281
        },
        "outputId": "abbbe80f-d90c-46f4-d036-779d84116262"
      },
      "source": [
        "loss = history.history['loss']\n",
        "val_loss = history.history['val_loss']\n",
        "epochs = range(200)\n",
        "plt.figure()\n",
        "plt.plot(epochs, loss, 'bo', label='Training loss')\n",
        "plt.plot(epochs, val_loss, 'b', label='Validation loss')\n",
        "plt.title('Training and validation loss')\n",
        "plt.legend()\n",
        "plt.show()"
      ],
      "execution_count": 20,
      "outputs": [
        {
          "output_type": "display_data",
          "data": {
            "image/png": "[encoded data removed]",
            "text/plain": [
              "<Figure size 432x288 with 1 Axes>"
            ]
          },
          "metadata": {
            "tags": [],
            "needs_background": "light"
          }
        }
      ]
    },
    {
      "cell_type": "code",
      "metadata": {
        "id": "3EReCLYNrBpl",
        "colab_type": "code",
        "outputId": "1d7bed66-90a1-4224-8ef1-2f8fefcf2647",
        "colab": {
          "base_uri": "https://localhost:8080/",
          "height": 146
        }
      },
      "source": [
        "preds = model_2.predict(train_x_n[:10])\n",
        "f, ax = plt.subplots(1,5)\n",
        "f.set_size_inches(10, 5)\n",
        "for i in range(5,10):\n",
        "    ax[i-5].imshow(preds[i].reshape(28, 28))\n",
        "plt.show()"
      ],
      "execution_count": 21,
      "outputs": [
        {
          "output_type": "display_data",
          "data": {
            "image/png": "[encoded data removed]",
            "text/plain": [
              "<Figure size 720x360 with 5 Axes>"
            ]
          },
          "metadata": {
            "tags": [],
            "needs_background": "light"
          }
        }
      ]
    },
    {
      "cell_type": "code",
      "metadata": {
        "id": "6wWVsSxtrmHe",
        "colab_type": "code",
        "colab": {}
      },
      "source": [
        "model_2.save_weights('model_2.h5')"
      ],
      "execution_count": 0,
      "outputs": []
    },
    {
      "cell_type": "markdown",
      "metadata": {
        "id": "-nQiX8PkIc0O",
        "colab_type": "text"
      },
      "source": [
        "## **TASK 2**"
      ]
    },
    {
      "cell_type": "markdown",
      "metadata": {
        "id": "kEgqyJ8V0eb5",
        "colab_type": "text"
      },
      "source": [
        "Accessing Fashion mnist dataset from kaggle"
      ]
    },
    {
      "cell_type": "code",
      "metadata": {
        "id": "gWBmmMGtem4B",
        "colab_type": "code",
        "outputId": "14f43074-1360-45ed-e2f4-2ba9744c90ae",
        "colab": {
          "base_uri": "https://localhost:8080/",
          "height": 68
        }
      },
      "source": [
        "import os\n",
        "\n",
        "os.environ['KAGGLE_USERNAME'] = \"prathapnsvr\" # username from the json file\n",
        "os.environ['KAGGLE_KEY'] = \"7859de3ed4a8bf1bc9daac2fc2d0430a\" # key from the json file\n",
        "!kaggle datasets download -d zalando-research/fashionmnist"
      ],
      "execution_count": 23,
      "outputs": [
        {
          "output_type": "stream",
          "text": [
            "Downloading fashionmnist.zip to /content\n",
            "\r  0% 0.00/68.8M [00:00<?, ?B/s]\r 23% 16.0M/68.8M [00:00<00:00, 162MB/s]\r 68% 47.0M/68.8M [00:00<00:00, 190MB/s]\n",
            "\r100% 68.8M/68.8M [00:00<00:00, 229MB/s]\n"
          ],
          "name": "stdout"
        }
      ]
    },
    {
      "cell_type": "code",
      "metadata": {
        "id": "hF0fvORWfWZo",
        "colab_type": "code",
        "colab": {}
      },
      "source": [
        "! unzip -q /content/fashionmnist.zip"
      ],
      "execution_count": 0,
      "outputs": []
    },
    {
      "cell_type": "code",
      "metadata": {
        "id": "1EzMGFVffEmc",
        "colab_type": "code",
        "colab": {}
      },
      "source": [
        "data_train = pd.read_csv(\"fashion-mnist_train.csv\")\n",
        "data_test = pd.read_csv(\"fashion-mnist_test.csv\")"
      ],
      "execution_count": 0,
      "outputs": []
    },
    {
      "cell_type": "markdown",
      "metadata": {
        "id": "rjWw_V3s0o1a",
        "colab_type": "text"
      },
      "source": [
        "Data preproccessing and normalizing "
      ]
    },
    {
      "cell_type": "code",
      "metadata": {
        "id": "xs0bSgYIfMDQ",
        "colab_type": "code",
        "colab": {}
      },
      "source": [
        "img_rows, img_cols = 28, 28\n",
        "input_shapes = (img_rows, img_cols, 1)\n",
        "\n",
        "X = np.array(data_train.iloc[:, 1:])\n",
        "y = to_categorical(np.array(data_train.iloc[:, 0]))\n",
        "\n",
        "#Here we split validation data to optimiza classifier during training\n",
        "X_train, X_val, y_train, y_val = train_test_split(X, y, test_size=0.1, random_state=13)\n",
        "\n",
        "#Test data\n",
        "X_test = np.array(data_test.iloc[:, 1:])\n",
        "y_test = to_categorical(np.array(data_test.iloc[:, 0]))\n",
        "\n",
        "X_train = X_train.reshape(X_train.shape[0], img_rows, img_cols, 1)\n",
        "X_test = X_test.reshape(X_test.shape[0], img_rows, img_cols, 1)\n",
        "X_val = X_val.reshape(X_val.shape[0], img_rows, img_cols, 1)\n",
        "\n",
        "X_train = X_train.astype('float32')\n",
        "X_test = X_test.astype('float32')\n",
        "X_val = X_val.astype('float32')\n",
        "\n",
        "X_train /= 255\n",
        "X_test /= 255\n",
        "X_val /= 255"
      ],
      "execution_count": 0,
      "outputs": []
    },
    {
      "cell_type": "code",
      "metadata": {
        "id": "HWxt0DBkSZv9",
        "colab_type": "code",
        "colab": {}
      },
      "source": [
        "model = Sequential()\n",
        "model.add(Conv2D(32, kernel_size=(3, 3), activation='relu', kernel_initializer='he_normal', input_shape=input_shapes))\n",
        "model.add(MaxPooling2D((2, 2)))\n",
        "model.add(Dropout(0.25))\n",
        "model.add(Conv2D(64, (3, 3), activation='relu'))\n",
        "model.add(MaxPooling2D(pool_size=(2, 2)))\n",
        "model.add(Dropout(0.25))\n",
        "model.add(Conv2D(128, (3, 3), activation='relu'))\n",
        "model.add(Dropout(0.4))\n",
        "model.add(Flatten())\n",
        "model.add(Dense(128, activation='relu'))\n",
        "model.add(Dropout(0.3))\n",
        "model.add(Dense(10, activation='softmax'))\n",
        "\n",
        "model.compile(loss=keras.losses.categorical_crossentropy,\n",
        "              optimizer=keras.optimizers.Adam(),\n",
        "              metrics=['accuracy'])"
      ],
      "execution_count": 0,
      "outputs": []
    },
    {
      "cell_type": "code",
      "metadata": {
        "id": "SO2u6xDjUAo9",
        "colab_type": "code",
        "colab": {
          "base_uri": "https://localhost:8080/",
          "height": 561
        },
        "outputId": "4afeec2a-f21b-42dd-c6a9-11d45434d3bd"
      },
      "source": [
        "model.summary()"
      ],
      "execution_count": 28,
      "outputs": [
        {
          "output_type": "stream",
          "text": [
            "Model: \"sequential_1\"\n",
            "_________________________________________________________________\n",
            "Layer (type)                 Output Shape              Param #   \n",
            "=================================================================\n",
            "conv2d_9 (Conv2D)            (None, 26, 26, 32)        320       \n",
            "_________________________________________________________________\n",
            "max_pooling2d_4 (MaxPooling2 (None, 13, 13, 32)        0         \n",
            "_________________________________________________________________\n",
            "dropout_1 (Dropout)          (None, 13, 13, 32)        0         \n",
            "_________________________________________________________________\n",
            "conv2d_10 (Conv2D)           (None, 11, 11, 64)        18496     \n",
            "_________________________________________________________________\n",
            "max_pooling2d_5 (MaxPooling2 (None, 5, 5, 64)          0         \n",
            "_________________________________________________________________\n",
            "dropout_2 (Dropout)          (None, 5, 5, 64)          0         \n",
            "_________________________________________________________________\n",
            "conv2d_11 (Conv2D)           (None, 3, 3, 128)         73856     \n",
            "_________________________________________________________________\n",
            "dropout_3 (Dropout)          (None, 3, 3, 128)         0         \n",
            "_________________________________________________________________\n",
            "flatten_1 (Flatten)          (None, 1152)              0         \n",
            "_________________________________________________________________\n",
            "dense_1 (Dense)              (None, 128)               147584    \n",
            "_________________________________________________________________\n",
            "dropout_4 (Dropout)          (None, 128)               0         \n",
            "_________________________________________________________________\n",
            "dense_2 (Dense)              (None, 10)                1290      \n",
            "=================================================================\n",
            "Total params: 241,546\n",
            "Trainable params: 241,546\n",
            "Non-trainable params: 0\n",
            "_________________________________________________________________\n"
          ],
          "name": "stdout"
        }
      ]
    },
    {
      "cell_type": "code",
      "metadata": {
        "id": "JOyfvHFhSqil",
        "colab_type": "code",
        "colab": {
          "base_uri": "https://localhost:8080/",
          "height": 1000
        },
        "outputId": "9c4bf2c4-aa15-4b3f-e142-3ee913556c0e"
      },
      "source": [
        "batch_size = 256\n",
        "num_classes = 10\n",
        "epochs = 30\n",
        "history1 = model.fit(X_train, y_train,\n",
        "          batch_size=batch_size,\n",
        "          epochs=epochs,\n",
        "          verbose=1,\n",
        "          validation_data=(X_val, y_val))\n",
        "score1 = model.evaluate(X_test, y_test, verbose=0)"
      ],
      "execution_count": 29,
      "outputs": [
        {
          "output_type": "stream",
          "text": [
            "Train on 54000 samples, validate on 6000 samples\n",
            "Epoch 1/30\n",
            "54000/54000 [==============================] - 3s 50us/step - loss: 0.8061 - accuracy: 0.6993 - val_loss: 0.4896 - val_accuracy: 0.8153\n",
            "Epoch 2/30\n",
            "54000/54000 [==============================] - 2s 38us/step - loss: 0.5123 - accuracy: 0.8085 - val_loss: 0.4235 - val_accuracy: 0.8435\n",
            "Epoch 3/30\n",
            "54000/54000 [==============================] - 2s 38us/step - loss: 0.4390 - accuracy: 0.8381 - val_loss: 0.3689 - val_accuracy: 0.8643\n",
            "Epoch 4/30\n",
            "54000/54000 [==============================] - 2s 38us/step - loss: 0.3906 - accuracy: 0.8580 - val_loss: 0.3308 - val_accuracy: 0.8822\n",
            "Epoch 5/30\n",
            "54000/54000 [==============================] - 2s 38us/step - loss: 0.3644 - accuracy: 0.8657 - val_loss: 0.3165 - val_accuracy: 0.8822\n",
            "Epoch 6/30\n",
            "54000/54000 [==============================] - 2s 37us/step - loss: 0.3379 - accuracy: 0.8765 - val_loss: 0.2931 - val_accuracy: 0.8938\n",
            "Epoch 7/30\n",
            "54000/54000 [==============================] - 2s 38us/step - loss: 0.3240 - accuracy: 0.8818 - val_loss: 0.2852 - val_accuracy: 0.8963\n",
            "Epoch 8/30\n",
            "54000/54000 [==============================] - 2s 37us/step - loss: 0.3127 - accuracy: 0.8851 - val_loss: 0.2764 - val_accuracy: 0.8973\n",
            "Epoch 9/30\n",
            "54000/54000 [==============================] - 2s 38us/step - loss: 0.3008 - accuracy: 0.8886 - val_loss: 0.2651 - val_accuracy: 0.9010\n",
            "Epoch 10/30\n",
            "54000/54000 [==============================] - 2s 38us/step - loss: 0.2926 - accuracy: 0.8915 - val_loss: 0.2668 - val_accuracy: 0.9012\n",
            "Epoch 11/30\n",
            "54000/54000 [==============================] - 2s 37us/step - loss: 0.2847 - accuracy: 0.8947 - val_loss: 0.2626 - val_accuracy: 0.9002\n",
            "Epoch 12/30\n",
            "54000/54000 [==============================] - 2s 38us/step - loss: 0.2787 - accuracy: 0.8975 - val_loss: 0.2536 - val_accuracy: 0.9082\n",
            "Epoch 13/30\n",
            "54000/54000 [==============================] - 2s 38us/step - loss: 0.2687 - accuracy: 0.9018 - val_loss: 0.2488 - val_accuracy: 0.9060\n",
            "Epoch 14/30\n",
            "54000/54000 [==============================] - 2s 37us/step - loss: 0.2636 - accuracy: 0.9036 - val_loss: 0.2463 - val_accuracy: 0.9047\n",
            "Epoch 15/30\n",
            "54000/54000 [==============================] - 2s 38us/step - loss: 0.2607 - accuracy: 0.9031 - val_loss: 0.2401 - val_accuracy: 0.9083\n",
            "Epoch 16/30\n",
            "54000/54000 [==============================] - 2s 38us/step - loss: 0.2562 - accuracy: 0.9062 - val_loss: 0.2398 - val_accuracy: 0.9088\n",
            "Epoch 17/30\n",
            "54000/54000 [==============================] - 2s 37us/step - loss: 0.2503 - accuracy: 0.9083 - val_loss: 0.2507 - val_accuracy: 0.9038\n",
            "Epoch 18/30\n",
            "54000/54000 [==============================] - 2s 38us/step - loss: 0.2462 - accuracy: 0.9085 - val_loss: 0.2371 - val_accuracy: 0.9105\n",
            "Epoch 19/30\n",
            "54000/54000 [==============================] - 2s 37us/step - loss: 0.2424 - accuracy: 0.9102 - val_loss: 0.2326 - val_accuracy: 0.9132\n",
            "Epoch 20/30\n",
            "54000/54000 [==============================] - 2s 38us/step - loss: 0.2394 - accuracy: 0.9111 - val_loss: 0.2426 - val_accuracy: 0.9078\n",
            "Epoch 21/30\n",
            "54000/54000 [==============================] - 2s 37us/step - loss: 0.2362 - accuracy: 0.9120 - val_loss: 0.2268 - val_accuracy: 0.9135\n",
            "Epoch 22/30\n",
            "54000/54000 [==============================] - 2s 38us/step - loss: 0.2337 - accuracy: 0.9136 - val_loss: 0.2300 - val_accuracy: 0.9100\n",
            "Epoch 23/30\n",
            "54000/54000 [==============================] - 2s 37us/step - loss: 0.2301 - accuracy: 0.9160 - val_loss: 0.2249 - val_accuracy: 0.9147\n",
            "Epoch 24/30\n",
            "54000/54000 [==============================] - 2s 38us/step - loss: 0.2294 - accuracy: 0.9148 - val_loss: 0.2263 - val_accuracy: 0.9162\n",
            "Epoch 25/30\n",
            "54000/54000 [==============================] - 2s 37us/step - loss: 0.2272 - accuracy: 0.9144 - val_loss: 0.2276 - val_accuracy: 0.9157\n",
            "Epoch 26/30\n",
            "54000/54000 [==============================] - 2s 37us/step - loss: 0.2234 - accuracy: 0.9154 - val_loss: 0.2310 - val_accuracy: 0.9135\n",
            "Epoch 27/30\n",
            "54000/54000 [==============================] - 2s 37us/step - loss: 0.2236 - accuracy: 0.9166 - val_loss: 0.2255 - val_accuracy: 0.9150\n",
            "Epoch 28/30\n",
            "54000/54000 [==============================] - 2s 38us/step - loss: 0.2181 - accuracy: 0.9186 - val_loss: 0.2251 - val_accuracy: 0.9142\n",
            "Epoch 29/30\n",
            "54000/54000 [==============================] - 2s 38us/step - loss: 0.2122 - accuracy: 0.9209 - val_loss: 0.2250 - val_accuracy: 0.9153\n",
            "Epoch 30/30\n",
            "54000/54000 [==============================] - 2s 38us/step - loss: 0.2125 - accuracy: 0.9200 - val_loss: 0.2259 - val_accuracy: 0.9142\n"
          ],
          "name": "stdout"
        }
      ]
    },
    {
      "cell_type": "code",
      "metadata": {
        "id": "qkMovAPIUPHY",
        "colab_type": "code",
        "colab": {
          "base_uri": "https://localhost:8080/",
          "height": 545
        },
        "outputId": "bcfe20c4-b7e5-4da6-8ddb-675ec17c86a3"
      },
      "source": [
        "loss = history1.history['accuracy']\n",
        "val_loss = history1.history['val_accuracy']\n",
        "epochs = range(30)\n",
        "plt.figure()\n",
        "plt.plot(epochs, loss, 'bo', label='Training accuracy')\n",
        "plt.plot(epochs, val_loss, 'b', label='Validation accuracy')\n",
        "plt.title('Training and validation accuracy')\n",
        "plt.legend()\n",
        "plt.show()\n",
        "loss = history1.history['loss']\n",
        "val_loss = history1.history['val_loss']\n",
        "epochs = range(30)\n",
        "plt.figure()\n",
        "plt.plot(epochs, loss, 'bo', label='Training loss')\n",
        "plt.plot(epochs, val_loss, 'b', label='Validation loss')\n",
        "plt.title('Training and validation loss')\n",
        "plt.legend()\n",
        "plt.show()"
      ],
      "execution_count": 30,
      "outputs": [
        {
          "output_type": "display_data",
          "data": {
            "image/png": "[encoded data removed]",
            "text/plain": [
              "<Figure size 432x288 with 1 Axes>"
            ]
          },
          "metadata": {
            "tags": [],
            "needs_background": "light"
          }
        },
        {
          "output_type": "display_data",
          "data": {
            "image/png": "[encoded data removed]",
            "text/plain": [
              "<Figure size 432x288 with 1 Axes>"
            ]
          },
          "metadata": {
            "tags": [],
            "needs_background": "light"
          }
        }
      ]
    },
    {
      "cell_type": "code",
      "metadata": {
        "id": "tJVbX4PSTw0Z",
        "colab_type": "code",
        "colab": {
          "base_uri": "https://localhost:8080/",
          "height": 51
        },
        "outputId": "1ed0de2c-20cd-48e6-f00e-97df46ecb9f7"
      },
      "source": [
        "print('Test loss:', score1[0])\n",
        "print('Test accuracy:', score1[1])"
      ],
      "execution_count": 31,
      "outputs": [
        {
          "output_type": "stream",
          "text": [
            "Test loss: 0.20721338544487952\n",
            "Test accuracy: 0.9228000044822693\n"
          ],
          "name": "stdout"
        }
      ]
    },
    {
      "cell_type": "markdown",
      "metadata": {
        "id": "oBMLcA4OVP1w",
        "colab_type": "text"
      },
      "source": [
        "## **TASK 3**"
      ]
    },
    {
      "cell_type": "markdown",
      "metadata": {
        "id": "GKwWYFj_xUpU",
        "colab_type": "text"
      },
      "source": [
        "## Autoencoder(M1) used for classification of fashion MNIST without decoding part"
      ]
    },
    {
      "cell_type": "markdown",
      "metadata": {
        "id": "MJZgXD6NHnu7",
        "colab_type": "text"
      },
      "source": [
        "Build the model with same layers as encoder in task1 with dense layers to classify:"
      ]
    },
    {
      "cell_type": "markdown",
      "metadata": {
        "id": "yecWuPfL01a6",
        "colab_type": "text"
      },
      "source": [
        "* Using the same encoding layers as the M1 \n",
        "* Removed the decoding layers in M1\n",
        "* Added dense layer of 10 nodes for classification."
      ]
    },
    {
      "cell_type": "code",
      "metadata": {
        "id": "8Bpq-cweaI9Z",
        "colab_type": "code",
        "colab": {}
      },
      "source": [
        "# input layer\n",
        "c_input_layer = Input(shape=(28, 28, 1))\n",
        "\n",
        "# encoding architecture\n",
        "c_encoded_layer1 = Conv2D(64, (3, 3), activation='relu', padding='same')(c_input_layer)\n",
        "c_encoded_layer1 = MaxPool2D( (2, 2), padding='same')(c_encoded_layer1)\n",
        "c_encoded_layer2 = Conv2D(32, (3, 3), activation='relu', padding='same')(c_encoded_layer1)\n",
        "c_encoded_layer2 = MaxPool2D( (2, 2), padding='same')(c_encoded_layer2)\n",
        "c_encoded_layer3 = Conv2D(16, (3, 3), activation='relu', padding='same')(c_encoded_layer2)\n",
        "c_latent_view    = MaxPool2D( (2, 2), padding='same')(c_encoded_layer3)\n",
        "flat = Flatten()(c_latent_view)\n",
        "den = Dense(128, activation='relu')(flat)\n",
        "out = Dense(10, activation='softmax')(den)\n",
        "model_3= Model(c_input_layer,out)"
      ],
      "execution_count": 0,
      "outputs": []
    },
    {
      "cell_type": "markdown",
      "metadata": {
        "id": "_6NyVGO-3REd",
        "colab_type": "text"
      },
      "source": [
        "Passing the weights from M1 to this classification."
      ]
    },
    {
      "cell_type": "code",
      "metadata": {
        "id": "lO2fztHCbt10",
        "colab_type": "code",
        "colab": {}
      },
      "source": [
        "for l1,l2 in zip(model_3.layers[:7],model_2.layers[0:7]):\n",
        "    l1.set_weights(l2.get_weights())"
      ],
      "execution_count": 0,
      "outputs": []
    },
    {
      "cell_type": "code",
      "metadata": {
        "id": "iZUrujZ1eGLr",
        "colab_type": "code",
        "colab": {}
      },
      "source": [
        "model_3.compile(loss=keras.losses.categorical_crossentropy,\n",
        "              optimizer=keras.optimizers.Adam(),\n",
        "              metrics=['accuracy'])"
      ],
      "execution_count": 0,
      "outputs": []
    },
    {
      "cell_type": "code",
      "metadata": {
        "id": "PYa50v163glm",
        "colab_type": "code",
        "outputId": "b0eeead4-207e-48dc-c75e-910cc37aa297",
        "colab": {
          "base_uri": "https://localhost:8080/",
          "height": 493
        }
      },
      "source": [
        "model_3.summary()"
      ],
      "execution_count": 35,
      "outputs": [
        {
          "output_type": "stream",
          "text": [
            "Model: \"model_2\"\n",
            "_________________________________________________________________\n",
            "Layer (type)                 Output Shape              Param #   \n",
            "=================================================================\n",
            "input_3 (InputLayer)         (None, 28, 28, 1)         0         \n",
            "_________________________________________________________________\n",
            "conv2d_12 (Conv2D)           (None, 28, 28, 64)        640       \n",
            "_________________________________________________________________\n",
            "max_pooling2d_6 (MaxPooling2 (None, 14, 14, 64)        0         \n",
            "_________________________________________________________________\n",
            "conv2d_13 (Conv2D)           (None, 14, 14, 32)        18464     \n",
            "_________________________________________________________________\n",
            "max_pooling2d_7 (MaxPooling2 (None, 7, 7, 32)          0         \n",
            "_________________________________________________________________\n",
            "conv2d_14 (Conv2D)           (None, 7, 7, 16)          4624      \n",
            "_________________________________________________________________\n",
            "max_pooling2d_8 (MaxPooling2 (None, 4, 4, 16)          0         \n",
            "_________________________________________________________________\n",
            "flatten_2 (Flatten)          (None, 256)               0         \n",
            "_________________________________________________________________\n",
            "dense_3 (Dense)              (None, 128)               32896     \n",
            "_________________________________________________________________\n",
            "dense_4 (Dense)              (None, 10)                1290      \n",
            "=================================================================\n",
            "Total params: 57,914\n",
            "Trainable params: 57,914\n",
            "Non-trainable params: 0\n",
            "_________________________________________________________________\n"
          ],
          "name": "stdout"
        }
      ]
    },
    {
      "cell_type": "code",
      "metadata": {
        "id": "1krgNt7DftZc",
        "colab_type": "code",
        "outputId": "850b4a62-c0c9-4d32-a32e-fce9d7fe8769",
        "colab": {
          "base_uri": "https://localhost:8080/",
          "height": 714
        }
      },
      "source": [
        "batch_size = 256\n",
        "num_classes = 10\n",
        "epochs = 20\n",
        "history2 = model_3.fit(X_train, y_train,\n",
        "          batch_size=batch_size,\n",
        "          epochs=epochs,\n",
        "          verbose=1,\n",
        "          validation_data=(X_val, y_val),callbacks=[early_stopping])\n",
        "score2 = model_3.evaluate(X_test, y_test, verbose=0)"
      ],
      "execution_count": 36,
      "outputs": [
        {
          "output_type": "stream",
          "text": [
            "Train on 54000 samples, validate on 6000 samples\n",
            "Epoch 1/20\n",
            "54000/54000 [==============================] - 3s 47us/step - loss: 0.7262 - accuracy: 0.7427 - val_loss: 0.4993 - val_accuracy: 0.8088\n",
            "Epoch 2/20\n",
            "54000/54000 [==============================] - 2s 39us/step - loss: 0.4137 - accuracy: 0.8489 - val_loss: 0.4091 - val_accuracy: 0.8523\n",
            "Epoch 3/20\n",
            "54000/54000 [==============================] - 2s 39us/step - loss: 0.3508 - accuracy: 0.8723 - val_loss: 0.3462 - val_accuracy: 0.8728\n",
            "Epoch 4/20\n",
            "54000/54000 [==============================] - 2s 39us/step - loss: 0.3199 - accuracy: 0.8833 - val_loss: 0.3144 - val_accuracy: 0.8863\n",
            "Epoch 5/20\n",
            "54000/54000 [==============================] - 2s 38us/step - loss: 0.3011 - accuracy: 0.8909 - val_loss: 0.3141 - val_accuracy: 0.8880\n",
            "Epoch 6/20\n",
            "54000/54000 [==============================] - 2s 38us/step - loss: 0.2905 - accuracy: 0.8936 - val_loss: 0.3049 - val_accuracy: 0.8893\n",
            "Epoch 7/20\n",
            "54000/54000 [==============================] - 2s 38us/step - loss: 0.2744 - accuracy: 0.8991 - val_loss: 0.2871 - val_accuracy: 0.8955\n",
            "Epoch 8/20\n",
            "54000/54000 [==============================] - 2s 38us/step - loss: 0.2605 - accuracy: 0.9049 - val_loss: 0.2749 - val_accuracy: 0.9032\n",
            "Epoch 9/20\n",
            "54000/54000 [==============================] - 2s 38us/step - loss: 0.2514 - accuracy: 0.9080 - val_loss: 0.2727 - val_accuracy: 0.9053\n",
            "Epoch 10/20\n",
            "54000/54000 [==============================] - 2s 38us/step - loss: 0.2440 - accuracy: 0.9098 - val_loss: 0.2712 - val_accuracy: 0.9013\n",
            "Epoch 11/20\n",
            "54000/54000 [==============================] - 2s 38us/step - loss: 0.2388 - accuracy: 0.9139 - val_loss: 0.2644 - val_accuracy: 0.9023\n",
            "Epoch 12/20\n",
            "54000/54000 [==============================] - 2s 38us/step - loss: 0.2285 - accuracy: 0.9159 - val_loss: 0.2769 - val_accuracy: 0.8958\n",
            "Epoch 13/20\n",
            "54000/54000 [==============================] - 2s 40us/step - loss: 0.2209 - accuracy: 0.9195 - val_loss: 0.2564 - val_accuracy: 0.9103\n",
            "Epoch 14/20\n",
            "54000/54000 [==============================] - 2s 40us/step - loss: 0.2148 - accuracy: 0.9214 - val_loss: 0.2549 - val_accuracy: 0.9070\n",
            "Epoch 15/20\n",
            "54000/54000 [==============================] - 2s 39us/step - loss: 0.2074 - accuracy: 0.9246 - val_loss: 0.2633 - val_accuracy: 0.9078\n",
            "Epoch 16/20\n",
            "54000/54000 [==============================] - 2s 40us/step - loss: 0.1997 - accuracy: 0.9266 - val_loss: 0.2551 - val_accuracy: 0.9087\n",
            "Epoch 17/20\n",
            "54000/54000 [==============================] - 2s 39us/step - loss: 0.1981 - accuracy: 0.9272 - val_loss: 0.2519 - val_accuracy: 0.9082\n",
            "Epoch 18/20\n",
            "54000/54000 [==============================] - 2s 38us/step - loss: 0.1904 - accuracy: 0.9304 - val_loss: 0.2499 - val_accuracy: 0.9115\n",
            "Epoch 19/20\n",
            "54000/54000 [==============================] - 2s 38us/step - loss: 0.1858 - accuracy: 0.9329 - val_loss: 0.2587 - val_accuracy: 0.9093\n",
            "Epoch 20/20\n",
            "54000/54000 [==============================] - 2s 38us/step - loss: 0.1806 - accuracy: 0.9337 - val_loss: 0.2452 - val_accuracy: 0.9142\n"
          ],
          "name": "stdout"
        }
      ]
    },
    {
      "cell_type": "code",
      "metadata": {
        "id": "4z0eqcFL4Xsk",
        "colab_type": "code",
        "colab": {
          "base_uri": "https://localhost:8080/",
          "height": 545
        },
        "outputId": "9a894af3-c94c-4bfe-a9a6-fa35b74d559e"
      },
      "source": [
        "loss = history2.history['accuracy']\n",
        "val_loss = history2.history['val_accuracy']\n",
        "epochs = range(20)\n",
        "plt.figure()\n",
        "plt.plot(epochs, loss, 'bo', label='Training accuracy')\n",
        "plt.plot(epochs, val_loss, 'b', label='Validation accuracy')\n",
        "plt.title('Training and validation accuracy')\n",
        "plt.legend()\n",
        "plt.show()\n",
        "loss = history2.history['loss']\n",
        "val_loss = history2.history['val_loss']\n",
        "epochs = range(20)\n",
        "plt.figure()\n",
        "plt.plot(epochs, loss, 'bo', label='Training loss')\n",
        "plt.plot(epochs, val_loss, 'b', label='Validation loss')\n",
        "plt.title('Training and validation loss')\n",
        "plt.legend()\n",
        "plt.show()"
      ],
      "execution_count": 37,
      "outputs": [
        {
          "output_type": "display_data",
          "data": {
            "image/png": "[encoded data removed]",
            "text/plain": [
              "<Figure size 432x288 with 1 Axes>"
            ]
          },
          "metadata": {
            "tags": [],
            "needs_background": "light"
          }
        },
        {
          "output_type": "display_data",
          "data": {
            "image/png": "[encoded data removed]",
            "text/plain": [
              "<Figure size 432x288 with 1 Axes>"
            ]
          },
          "metadata": {
            "tags": [],
            "needs_background": "light"
          }
        }
      ]
    },
    {
      "cell_type": "code",
      "metadata": {
        "id": "VyKL3VVRgao3",
        "colab_type": "code",
        "outputId": "1d6aaf46-7927-4d9c-d60f-b0a7c9a8bf15",
        "colab": {
          "base_uri": "https://localhost:8080/",
          "height": 51
        }
      },
      "source": [
        "print('Test loss:', score2[0])\n",
        "print('Test accuracy:', score2[1])"
      ],
      "execution_count": 38,
      "outputs": [
        {
          "output_type": "stream",
          "text": [
            "Test loss: 0.22535974941253661\n",
            "Test accuracy: 0.9180999994277954\n"
          ],
          "name": "stdout"
        }
      ]
    },
    {
      "cell_type": "markdown",
      "metadata": {
        "id": "hnNZM-_AECmw",
        "colab_type": "text"
      },
      "source": [
        "### **Task 4 Comparision of both the classification models :**"
      ]
    },
    {
      "cell_type": "code",
      "metadata": {
        "id": "IdYLUPFnu7Qb",
        "colab_type": "code",
        "colab": {}
      },
      "source": [
        "predicted_classes = model.predict_classes(X_test)\n",
        "y_true = data_test.iloc[:, 0]"
      ],
      "execution_count": 0,
      "outputs": []
    },
    {
      "cell_type": "code",
      "metadata": {
        "id": "112gT4Ap0G5w",
        "colab_type": "code",
        "colab": {}
      },
      "source": [
        "predicted_classes2 = model_3.predict(X_test)"
      ],
      "execution_count": 0,
      "outputs": []
    },
    {
      "cell_type": "code",
      "metadata": {
        "id": "56QagTiZ0x_y",
        "colab_type": "code",
        "colab": {}
      },
      "source": [
        "predicted_classes2 = np.argmax(np.round(predicted_classes2),axis=1)"
      ],
      "execution_count": 0,
      "outputs": []
    },
    {
      "cell_type": "code",
      "metadata": {
        "id": "fnzJMNcjvN1K",
        "colab_type": "code",
        "colab": {
          "base_uri": "https://localhost:8080/",
          "height": 306
        },
        "outputId": "8c7e9252-d1d8-43dd-d041-01fa5578b353"
      },
      "source": [
        "from sklearn.metrics import classification_report\n",
        "target_names = [\"Class {}\".format(i) for i in range(num_classes)]\n",
        "print(classification_report(y_true, predicted_classes, target_names=target_names))"
      ],
      "execution_count": 41,
      "outputs": [
        {
          "output_type": "stream",
          "text": [
            "              precision    recall  f1-score   support\n",
            "\n",
            "     Class 0       0.87      0.89      0.88      1000\n",
            "     Class 1       1.00      0.98      0.99      1000\n",
            "     Class 2       0.92      0.82      0.87      1000\n",
            "     Class 3       0.90      0.96      0.93      1000\n",
            "     Class 4       0.86      0.90      0.88      1000\n",
            "     Class 5       0.99      0.97      0.98      1000\n",
            "     Class 6       0.78      0.77      0.78      1000\n",
            "     Class 7       0.95      0.98      0.96      1000\n",
            "     Class 8       0.98      0.99      0.99      1000\n",
            "     Class 9       0.97      0.97      0.97      1000\n",
            "\n",
            "    accuracy                           0.92     10000\n",
            "   macro avg       0.92      0.92      0.92     10000\n",
            "weighted avg       0.92      0.92      0.92     10000\n",
            "\n"
          ],
          "name": "stdout"
        }
      ]
    },
    {
      "cell_type": "code",
      "metadata": {
        "id": "DBJ4FeDZ1Q9N",
        "colab_type": "code",
        "colab": {
          "base_uri": "https://localhost:8080/",
          "height": 306
        },
        "outputId": "688b3394-4102-4341-eafb-736bc9f6df04"
      },
      "source": [
        "from sklearn.metrics import classification_report\n",
        "target_names = [\"Class {}\".format(i) for i in range(num_classes)]\n",
        "print(classification_report(y_true, predicted_classes2, target_names=target_names))"
      ],
      "execution_count": 46,
      "outputs": [
        {
          "output_type": "stream",
          "text": [
            "              precision    recall  f1-score   support\n",
            "\n",
            "     Class 0       0.77      0.87      0.81      1000\n",
            "     Class 1       0.99      0.98      0.99      1000\n",
            "     Class 2       0.93      0.82      0.87      1000\n",
            "     Class 3       0.93      0.93      0.93      1000\n",
            "     Class 4       0.84      0.92      0.88      1000\n",
            "     Class 5       0.99      0.98      0.98      1000\n",
            "     Class 6       0.81      0.72      0.76      1000\n",
            "     Class 7       0.94      0.96      0.95      1000\n",
            "     Class 8       0.98      0.98      0.98      1000\n",
            "     Class 9       0.97      0.96      0.97      1000\n",
            "\n",
            "    accuracy                           0.91     10000\n",
            "   macro avg       0.92      0.91      0.91     10000\n",
            "weighted avg       0.92      0.91      0.91     10000\n",
            "\n"
          ],
          "name": "stdout"
        }
      ]
    },
    {
      "cell_type": "code",
      "metadata": {
        "id": "fs4QeqJGC0Dx",
        "colab_type": "code",
        "colab": {
          "base_uri": "https://localhost:8080/",
          "height": 383
        },
        "outputId": "9fb295cd-cc0e-48d4-8c4f-b747a8829609"
      },
      "source": [
        "data = [[89,98,82,96,90,97,77,98,99,97],[87,98,82,93,92,98,72,96,98,96]]\n",
        "X = np.arange(10)\n",
        "fig = plt.figure()\n",
        "ax = fig.add_axes([0,0,1,1])\n",
        "ax.bar(X + 0.00, data[0],alpha = 0.8, width = 0.25,label=\"Model 2\")\n",
        "ax.bar(X + 0.25, data[1],alpha = 0.8, width = 0.25,label=\"Model 3\")\n",
        "plt.title(\"Comparision of recall bar graph\")\n",
        "plt.xlabel(\"class\")\n",
        "plt.ylabel(\"recall scores\")\n",
        "labels=['class1','class2','class3','class4','class5','class6','class7','class8','class9','class10']\n",
        "ax.set_xticks(X)\n",
        "ax.set_xticklabels(labels)\n",
        "plt.legend()\n",
        "\n",
        "print()"
      ],
      "execution_count": 50,
      "outputs": [
        {
          "output_type": "stream",
          "text": [
            "\n"
          ],
          "name": "stdout"
        },
        {
          "output_type": "display_data",
          "data": {
            "image/png": "[encoded data removed]",
            "text/plain": [
              "<Figure size 432x288 with 1 Axes>"
            ]
          },
          "metadata": {
            "tags": [],
            "needs_background": "light"
          }
        }
      ]
    },
    {
      "cell_type": "code",
      "metadata": {
        "id": "x11wA2YP1jEN",
        "colab_type": "code",
        "colab": {
          "base_uri": "https://localhost:8080/",
          "height": 383
        },
        "outputId": "846dd9c8-f52f-4074-ebdd-333650bf2edf"
      },
      "source": [
        "data = [[87,100,92,90,86,99,78,95,98,97],[77,99,93,93,84,99,81,94,98,97]]\n",
        "X = np.arange(10)\n",
        "fig = plt.figure()\n",
        "ax = fig.add_axes([0,0,1,1])\n",
        "ax.bar(X + 0.00, data[0],alpha = 0.8, width = 0.25,label=\"Model 2\")\n",
        "ax.bar(X + 0.25, data[1],alpha = 0.8, width = 0.25,label=\"Model 3\")\n",
        "plt.title(\"Comparision of precision bar graph\")\n",
        "plt.xlabel(\"class\")\n",
        "plt.ylabel(\"precision scores\")\n",
        "labels=['class1','class2','class3','class4','class5','class6','class7','class8','class9','class10']\n",
        "ax.set_xticks(X)\n",
        "ax.set_xticklabels(labels)\n",
        "plt.legend()\n",
        "\n",
        "print()"
      ],
      "execution_count": 48,
      "outputs": [
        {
          "output_type": "stream",
          "text": [
            "\n"
          ],
          "name": "stdout"
        },
        {
          "output_type": "display_data",
          "data": {
            "image/png": "[encoded data removed]",
            "text/plain": [
              "<Figure size 432x288 with 1 Axes>"
            ]
          },
          "metadata": {
            "tags": [],
            "needs_background": "light"
          }
        }
      ]
    }
  ]
}
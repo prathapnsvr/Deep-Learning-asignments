{
 "cells": [
  {
   "cell_type": "code",
   "execution_count": 23,
   "metadata": {},
   "outputs": [],
   "source": [
    "import os\n",
    "import numpy as np\n",
    "from numpy import asarray\n",
    "import PIL\n",
    "from PIL import Image"
   ]
  },
  {
   "cell_type": "markdown",
   "metadata": {},
   "source": [
    "## FUNCTION"
   ]
  },
  {
   "cell_type": "code",
   "execution_count": 24,
   "metadata": {},
   "outputs": [],
   "source": [
    "def myconv2D(img,m,filters,s):\n",
    "    image_obj=Image.open(img)\n",
    "    data=asarray(image_obj)\n",
    "    l,b,d=data.shape\n",
    "    flt=asarray(filters)\n",
    "    n,r,c=flt.shape\n",
    "    if m == n//d:\n",
    "        if d==1:\n",
    "            out = np.zeros((n,((l-r)//s)+1,((b-c)//s)+1))\n",
    "            for curr_f in range(n):\n",
    "                curr_y = out_y = 0\n",
    "                while curr_y + r <= l:\n",
    "                    curr_x = out_x = 0\n",
    "                    while curr_x + c <= b:\n",
    "                        #out[curr_f, out_y, out_x] = np.sum(flt[curr_f] * data[curr_y:curr_y+r, curr_x:curr_x+c,curr_f%d])\n",
    "                        out[curr_f, out_y, out_x] = np.sum(flt * data[curr_y:curr_y+r, curr_x:curr_x+c])\n",
    "                        curr_x += s\n",
    "                        out_x += 1\n",
    "                    curr_y += s\n",
    "                    out_y += 1\n",
    "            result=out\n",
    "        else:\n",
    "            out = np.zeros((n,((l-r)//s)+1,((b-c)//s)+1))\n",
    "            for curr_f in range(n):\n",
    "                curr_y = out_y = 0\n",
    "                while curr_y + r <= l:\n",
    "                    curr_x = out_x = 0\n",
    "                    while curr_x + c <= b:\n",
    "                        out[curr_f, out_y, out_x] = np.sum(flt[curr_f] * data[curr_y:curr_y+r, curr_x:curr_x+c,curr_f%d])\n",
    "                        #out[curr_f, out_y, out_x] = np.sum(flt * data[curr_y:curr_y+r, curr_x:curr_x+c])\n",
    "                        curr_x += s\n",
    "                        out_x += 1\n",
    "                    curr_y += s\n",
    "                    out_y += 1\n",
    "            result=np.zeros((m,((l-r)//s)+1,((b-c)//s)+1,d))\n",
    "            for f in range(m):\n",
    "                for i in range(((l-r)//s)+1):\n",
    "                    for j in range(((b-c)//s)+1):\n",
    "                        for k in range(d):\n",
    "                            result[f,i,j,k]=out[f*d+k,i,j]\n",
    "        return result\n",
    "    else:\n",
    "        return [\"ERROR\"]"
   ]
  },
  {
   "cell_type": "markdown",
   "metadata": {},
   "source": [
    "## INPUT:"
   ]
  },
  {
   "cell_type": "code",
   "execution_count": 25,
   "metadata": {},
   "outputs": [],
   "source": [
    "fltr=[[[1,0,1],\n",
    "       [1,1,1],\n",
    "       [1,0,1]],\n",
    "      \n",
    "      [[0,0,1],\n",
    "       [1,1,1],\n",
    "       [1,0,1]],\n",
    "      \n",
    "      [[1,0,0],\n",
    "       [1,1,1],\n",
    "       [1,0,1]],\n",
    "      \n",
    "      [[1,0,1],\n",
    "       [0,1,0],\n",
    "       [1,0,1]],\n",
    "      \n",
    "      [[1,0,1],\n",
    "       [1,0,1],\n",
    "       [1,0,1]],\n",
    "      \n",
    "      [[1,0,1],\n",
    "       [0,0,0],\n",
    "       [1,0,1]]]"
   ]
  },
  {
   "cell_type": "code",
   "execution_count": 30,
   "metadata": {},
   "outputs": [],
   "source": [
    "r=myconv2D(\"dog.jpg\",2,fltr,1)"
   ]
  },
  {
   "cell_type": "markdown",
   "metadata": {},
   "source": [
    "## OUTPUT:"
   ]
  },
  {
   "cell_type": "code",
   "execution_count": 31,
   "metadata": {},
   "outputs": [
    {
     "name": "stdout",
     "output_type": "stream",
     "text": [
      "(2, 424, 638, 3)\n"
     ]
    }
   ],
   "source": [
    "print(r.shape)"
   ]
  },
  {
   "cell_type": "code",
   "execution_count": 32,
   "metadata": {},
   "outputs": [
    {
     "name": "stdout",
     "output_type": "stream",
     "text": [
      "[[[1672. 1424. 1306.]\n",
      "  [1678. 1431. 1312.]\n",
      "  [1683. 1437. 1316.]\n",
      "  ...\n",
      "  [1587. 1357. 1168.]\n",
      "  [1588. 1358. 1164.]\n",
      "  [1586. 1357. 1158.]]\n",
      "\n",
      " [[1663. 1419. 1302.]\n",
      "  [1673. 1428. 1310.]\n",
      "  [1681. 1436. 1317.]\n",
      "  ...\n",
      "  [1584. 1353. 1163.]\n",
      "  [1580. 1351. 1155.]\n",
      "  [1576. 1349. 1146.]]\n",
      "\n",
      " [[1666. 1424. 1312.]\n",
      "  [1671. 1428. 1314.]\n",
      "  [1677. 1433. 1319.]\n",
      "  ...\n",
      "  [1575. 1344. 1155.]\n",
      "  [1570. 1342. 1143.]\n",
      "  [1570. 1345. 1137.]]\n",
      "\n",
      " ...\n",
      "\n",
      " [[ 427.  251.  206.]\n",
      "  [ 440.  263.  220.]\n",
      "  [ 446.  268.  225.]\n",
      "  ...\n",
      "  [ 537.  295.  196.]\n",
      "  [ 549.  297.  205.]\n",
      "  [ 545.  285.  202.]]\n",
      "\n",
      " [[ 426.  240.  194.]\n",
      "  [ 443.  254.  209.]\n",
      "  [ 451.  262.  216.]\n",
      "  ...\n",
      "  [ 492.  257.  154.]\n",
      "  [ 494.  248.  156.]\n",
      "  [ 492.  240.  147.]]\n",
      "\n",
      " [[ 417.  225.  181.]\n",
      "  [ 431.  236.  193.]\n",
      "  [ 438.  242.  199.]\n",
      "  ...\n",
      "  [ 451.  225.  127.]\n",
      "  [ 448.  211.  124.]\n",
      "  [ 445.  209.  111.]]]\n"
     ]
    }
   ],
   "source": [
    "print(r[0])"
   ]
  },
  {
   "cell_type": "code",
   "execution_count": 33,
   "metadata": {},
   "outputs": [
    {
     "name": "stdout",
     "output_type": "stream",
     "text": [
      "[[[1195. 1427.  872.]\n",
      "  [1198. 1433.  875.]\n",
      "  [1202. 1436.  877.]\n",
      "  ...\n",
      "  [1133. 1355.  778.]\n",
      "  [1134. 1358.  775.]\n",
      "  [1133. 1357.  772.]]\n",
      "\n",
      " [[1189. 1420.  872.]\n",
      "  [1195. 1429.  877.]\n",
      "  [1201. 1434.  880.]\n",
      "  ...\n",
      "  [1131. 1353.  775.]\n",
      "  [1128. 1352.  771.]\n",
      "  [1126. 1350.  765.]]\n",
      "\n",
      " [[1191. 1423.  874.]\n",
      "  [1194. 1427.  876.]\n",
      "  [1198. 1431.  878.]\n",
      "  ...\n",
      "  [1125. 1347.  769.]\n",
      "  [1121. 1345.  762.]\n",
      "  [1122. 1346.  760.]]\n",
      "\n",
      " ...\n",
      "\n",
      " [[ 301.  246.  132.]\n",
      "  [ 309.  256.  137.]\n",
      "  [ 313.  261.  135.]\n",
      "  ...\n",
      "  [ 381.  290.  129.]\n",
      "  [ 389.  293.  130.]\n",
      "  [ 383.  290.  122.]]\n",
      "\n",
      " [[ 305.  240.  133.]\n",
      "  [ 317.  253.  141.]\n",
      "  [ 322.  262.  142.]\n",
      "  ...\n",
      "  [ 351.  254.  104.]\n",
      "  [ 351.  254.  106.]\n",
      "  [ 348.  256.  102.]]\n",
      "\n",
      " [[ 298.  225.  126.]\n",
      "  [ 309.  237.  135.]\n",
      "  [ 315.  247.  137.]\n",
      "  ...\n",
      "  [ 331.  231.  100.]\n",
      "  [ 330.  226.   99.]\n",
      "  [ 327.  226.   95.]]]\n"
     ]
    }
   ],
   "source": [
    "print(r[1])"
   ]
  },
  {
   "cell_type": "code",
   "execution_count": null,
   "metadata": {},
   "outputs": [],
   "source": []
  }
 ],
 "metadata": {
  "kernelspec": {
   "display_name": "Python 3",
   "language": "python",
   "name": "python3"
  },
  "language_info": {
   "codemirror_mode": {
    "name": "ipython",
    "version": 3
   },
   "file_extension": ".py",
   "mimetype": "text/x-python",
   "name": "python",
   "nbconvert_exporter": "python",
   "pygments_lexer": "ipython3",
   "version": "3.7.3"
  }
 },
 "nbformat": 4,
 "nbformat_minor": 2
}
